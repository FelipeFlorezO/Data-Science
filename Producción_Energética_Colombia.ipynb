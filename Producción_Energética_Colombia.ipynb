{
  "nbformat": 4,
  "nbformat_minor": 0,
  "metadata": {
    "colab": {
      "provenance": [],
      "authorship_tag": "ABX9TyP+qfID2KiNUFdrGCOnoP1Y",
      "include_colab_link": true
    },
    "kernelspec": {
      "name": "python3",
      "display_name": "Python 3"
    },
    "language_info": {
      "name": "python"
    }
  },
  "cells": [
    {
      "cell_type": "markdown",
      "metadata": {
        "id": "view-in-github",
        "colab_type": "text"
      },
      "source": [
        "<a href=\"https://colab.research.google.com/github/FelipeFlorezO/Machine_Learning/blob/main/Producci%C3%B3n_Energ%C3%A9tica_Colombia.ipynb\" target=\"_parent\"><img src=\"https://colab.research.google.com/assets/colab-badge.svg\" alt=\"Open In Colab\"/></a>"
      ]
    },
    {
      "cell_type": "markdown",
      "source": [
        "# Machine Learning con Python\n",
        "\n",
        "Laboratorio Semana 2\n",
        "\n",
        "Presentado por: Andrés Felipe Flórez Olivera - ICESI\n",
        "\n",
        "Análisis de la producción energética en Colombia"
      ],
      "metadata": {
        "id": "hkDhXLPyqbl4"
      }
    },
    {
      "cell_type": "markdown",
      "source": [
        "Iniciamos importando las librerías a utilizar:"
      ],
      "metadata": {
        "id": "gTwNtUypDW2W"
      }
    },
    {
      "cell_type": "code",
      "source": [
        "import numpy as np\n",
        "import pandas as pd\n",
        "import matplotlib.pyplot as plt\n",
        "import seaborn as sns"
      ],
      "metadata": {
        "id": "0uu8buOdq1FV"
      },
      "execution_count": 22,
      "outputs": []
    },
    {
      "cell_type": "code",
      "source": [
        "dataset=\"data-3.csv\"\n",
        "df= pd.read_csv(dataset)"
      ],
      "metadata": {
        "id": "j56B8c1TxoBQ"
      },
      "execution_count": 11,
      "outputs": []
    },
    {
      "cell_type": "markdown",
      "source": [
        "Para identificar la cantidad de datos:"
      ],
      "metadata": {
        "id": "i1-pBOE3H_ER"
      }
    },
    {
      "cell_type": "code",
      "source": [
        "df"
      ],
      "metadata": {
        "colab": {
          "base_uri": "https://localhost:8080/",
          "height": 696
        },
        "id": "Dm-10ywPIAWB",
        "outputId": "c38910c5-9d3f-44ee-d023-f71da6d59381"
      },
      "execution_count": 14,
      "outputs": [
        {
          "output_type": "execute_result",
          "data": {
            "text/plain": [
              "              COUNTRY CODE_TIME           TIME  YEAR  MONTH MONTH_NAME  \\\n",
              "0           Australia   JAN2010   January 2010  2010      1    January   \n",
              "1           Australia   JAN2010   January 2010  2010      1    January   \n",
              "2           Australia   JAN2010   January 2010  2010      1    January   \n",
              "3           Australia   JAN2010   January 2010  2010      1    January   \n",
              "4           Australia   JAN2010   January 2010  2010      1    January   \n",
              "...               ...       ...            ...   ...    ...        ...   \n",
              "181910  United States   DEC2022  December 2022  2022     12   December   \n",
              "181911  United States   DEC2022  December 2022  2022     12   December   \n",
              "181912  United States   DEC2022  December 2022  2022     12   December   \n",
              "181913  United States   DEC2022  December 2022  2022     12   December   \n",
              "181914  United States   DEC2022  December 2022  2022     12   December   \n",
              "\n",
              "                            PRODUCT          VALUE  DISPLAY_ORDER  \\\n",
              "0                             Hydro     990.728000              1   \n",
              "1                              Wind     409.469000              2   \n",
              "2                             Solar      49.216000              3   \n",
              "3                        Geothermal       0.083000              4   \n",
              "4           Total combustible fuels   19289.730000              7   \n",
              "...                             ...            ...            ...   \n",
              "181910               Non-renewables  292417.548132             23   \n",
              "181911                       Others    8017.840957             24   \n",
              "181912  Other renewables aggregated    6133.265943             25   \n",
              "181913                   Low carbon  146425.474534             26   \n",
              "181914                 Fossil fuels  223357.219650             27   \n",
              "\n",
              "          yearToDate  previousYearToDate     share  \n",
              "0       1.647189e+04                 NaN  0.047771  \n",
              "1       4.940909e+03                 NaN  0.019744  \n",
              "2       9.082380e+02                 NaN  0.002373  \n",
              "3       9.960000e-01                 NaN  0.000004  \n",
              "4       2.143030e+05                 NaN  0.930108  \n",
              "...              ...                 ...       ...  \n",
              "181910  3.355042e+06        3.320634e+06  0.791164  \n",
              "181911  5.393606e+04        4.899452e+04  0.021693  \n",
              "181912  7.100997e+04        7.242158e+04  0.016594  \n",
              "181913  1.749805e+06        1.670531e+06  0.396168  \n",
              "181914  2.583925e+06        2.542138e+06  0.604315  \n",
              "\n",
              "[181915 rows x 12 columns]"
            ],
            "text/html": [
              "\n",
              "\n",
              "  <div id=\"df-66fdc927-3324-4dc3-affa-131a08038ca8\">\n",
              "    <div class=\"colab-df-container\">\n",
              "      <div>\n",
              "<style scoped>\n",
              "    .dataframe tbody tr th:only-of-type {\n",
              "        vertical-align: middle;\n",
              "    }\n",
              "\n",
              "    .dataframe tbody tr th {\n",
              "        vertical-align: top;\n",
              "    }\n",
              "\n",
              "    .dataframe thead th {\n",
              "        text-align: right;\n",
              "    }\n",
              "</style>\n",
              "<table border=\"1\" class=\"dataframe\">\n",
              "  <thead>\n",
              "    <tr style=\"text-align: right;\">\n",
              "      <th></th>\n",
              "      <th>COUNTRY</th>\n",
              "      <th>CODE_TIME</th>\n",
              "      <th>TIME</th>\n",
              "      <th>YEAR</th>\n",
              "      <th>MONTH</th>\n",
              "      <th>MONTH_NAME</th>\n",
              "      <th>PRODUCT</th>\n",
              "      <th>VALUE</th>\n",
              "      <th>DISPLAY_ORDER</th>\n",
              "      <th>yearToDate</th>\n",
              "      <th>previousYearToDate</th>\n",
              "      <th>share</th>\n",
              "    </tr>\n",
              "  </thead>\n",
              "  <tbody>\n",
              "    <tr>\n",
              "      <th>0</th>\n",
              "      <td>Australia</td>\n",
              "      <td>JAN2010</td>\n",
              "      <td>January 2010</td>\n",
              "      <td>2010</td>\n",
              "      <td>1</td>\n",
              "      <td>January</td>\n",
              "      <td>Hydro</td>\n",
              "      <td>990.728000</td>\n",
              "      <td>1</td>\n",
              "      <td>1.647189e+04</td>\n",
              "      <td>NaN</td>\n",
              "      <td>0.047771</td>\n",
              "    </tr>\n",
              "    <tr>\n",
              "      <th>1</th>\n",
              "      <td>Australia</td>\n",
              "      <td>JAN2010</td>\n",
              "      <td>January 2010</td>\n",
              "      <td>2010</td>\n",
              "      <td>1</td>\n",
              "      <td>January</td>\n",
              "      <td>Wind</td>\n",
              "      <td>409.469000</td>\n",
              "      <td>2</td>\n",
              "      <td>4.940909e+03</td>\n",
              "      <td>NaN</td>\n",
              "      <td>0.019744</td>\n",
              "    </tr>\n",
              "    <tr>\n",
              "      <th>2</th>\n",
              "      <td>Australia</td>\n",
              "      <td>JAN2010</td>\n",
              "      <td>January 2010</td>\n",
              "      <td>2010</td>\n",
              "      <td>1</td>\n",
              "      <td>January</td>\n",
              "      <td>Solar</td>\n",
              "      <td>49.216000</td>\n",
              "      <td>3</td>\n",
              "      <td>9.082380e+02</td>\n",
              "      <td>NaN</td>\n",
              "      <td>0.002373</td>\n",
              "    </tr>\n",
              "    <tr>\n",
              "      <th>3</th>\n",
              "      <td>Australia</td>\n",
              "      <td>JAN2010</td>\n",
              "      <td>January 2010</td>\n",
              "      <td>2010</td>\n",
              "      <td>1</td>\n",
              "      <td>January</td>\n",
              "      <td>Geothermal</td>\n",
              "      <td>0.083000</td>\n",
              "      <td>4</td>\n",
              "      <td>9.960000e-01</td>\n",
              "      <td>NaN</td>\n",
              "      <td>0.000004</td>\n",
              "    </tr>\n",
              "    <tr>\n",
              "      <th>4</th>\n",
              "      <td>Australia</td>\n",
              "      <td>JAN2010</td>\n",
              "      <td>January 2010</td>\n",
              "      <td>2010</td>\n",
              "      <td>1</td>\n",
              "      <td>January</td>\n",
              "      <td>Total combustible fuels</td>\n",
              "      <td>19289.730000</td>\n",
              "      <td>7</td>\n",
              "      <td>2.143030e+05</td>\n",
              "      <td>NaN</td>\n",
              "      <td>0.930108</td>\n",
              "    </tr>\n",
              "    <tr>\n",
              "      <th>...</th>\n",
              "      <td>...</td>\n",
              "      <td>...</td>\n",
              "      <td>...</td>\n",
              "      <td>...</td>\n",
              "      <td>...</td>\n",
              "      <td>...</td>\n",
              "      <td>...</td>\n",
              "      <td>...</td>\n",
              "      <td>...</td>\n",
              "      <td>...</td>\n",
              "      <td>...</td>\n",
              "      <td>...</td>\n",
              "    </tr>\n",
              "    <tr>\n",
              "      <th>181910</th>\n",
              "      <td>United States</td>\n",
              "      <td>DEC2022</td>\n",
              "      <td>December 2022</td>\n",
              "      <td>2022</td>\n",
              "      <td>12</td>\n",
              "      <td>December</td>\n",
              "      <td>Non-renewables</td>\n",
              "      <td>292417.548132</td>\n",
              "      <td>23</td>\n",
              "      <td>3.355042e+06</td>\n",
              "      <td>3.320634e+06</td>\n",
              "      <td>0.791164</td>\n",
              "    </tr>\n",
              "    <tr>\n",
              "      <th>181911</th>\n",
              "      <td>United States</td>\n",
              "      <td>DEC2022</td>\n",
              "      <td>December 2022</td>\n",
              "      <td>2022</td>\n",
              "      <td>12</td>\n",
              "      <td>December</td>\n",
              "      <td>Others</td>\n",
              "      <td>8017.840957</td>\n",
              "      <td>24</td>\n",
              "      <td>5.393606e+04</td>\n",
              "      <td>4.899452e+04</td>\n",
              "      <td>0.021693</td>\n",
              "    </tr>\n",
              "    <tr>\n",
              "      <th>181912</th>\n",
              "      <td>United States</td>\n",
              "      <td>DEC2022</td>\n",
              "      <td>December 2022</td>\n",
              "      <td>2022</td>\n",
              "      <td>12</td>\n",
              "      <td>December</td>\n",
              "      <td>Other renewables aggregated</td>\n",
              "      <td>6133.265943</td>\n",
              "      <td>25</td>\n",
              "      <td>7.100997e+04</td>\n",
              "      <td>7.242158e+04</td>\n",
              "      <td>0.016594</td>\n",
              "    </tr>\n",
              "    <tr>\n",
              "      <th>181913</th>\n",
              "      <td>United States</td>\n",
              "      <td>DEC2022</td>\n",
              "      <td>December 2022</td>\n",
              "      <td>2022</td>\n",
              "      <td>12</td>\n",
              "      <td>December</td>\n",
              "      <td>Low carbon</td>\n",
              "      <td>146425.474534</td>\n",
              "      <td>26</td>\n",
              "      <td>1.749805e+06</td>\n",
              "      <td>1.670531e+06</td>\n",
              "      <td>0.396168</td>\n",
              "    </tr>\n",
              "    <tr>\n",
              "      <th>181914</th>\n",
              "      <td>United States</td>\n",
              "      <td>DEC2022</td>\n",
              "      <td>December 2022</td>\n",
              "      <td>2022</td>\n",
              "      <td>12</td>\n",
              "      <td>December</td>\n",
              "      <td>Fossil fuels</td>\n",
              "      <td>223357.219650</td>\n",
              "      <td>27</td>\n",
              "      <td>2.583925e+06</td>\n",
              "      <td>2.542138e+06</td>\n",
              "      <td>0.604315</td>\n",
              "    </tr>\n",
              "  </tbody>\n",
              "</table>\n",
              "<p>181915 rows × 12 columns</p>\n",
              "</div>\n",
              "      <button class=\"colab-df-convert\" onclick=\"convertToInteractive('df-66fdc927-3324-4dc3-affa-131a08038ca8')\"\n",
              "              title=\"Convert this dataframe to an interactive table.\"\n",
              "              style=\"display:none;\">\n",
              "\n",
              "  <svg xmlns=\"http://www.w3.org/2000/svg\" height=\"24px\"viewBox=\"0 0 24 24\"\n",
              "       width=\"24px\">\n",
              "    <path d=\"M0 0h24v24H0V0z\" fill=\"none\"/>\n",
              "    <path d=\"M18.56 5.44l.94 2.06.94-2.06 2.06-.94-2.06-.94-.94-2.06-.94 2.06-2.06.94zm-11 1L8.5 8.5l.94-2.06 2.06-.94-2.06-.94L8.5 2.5l-.94 2.06-2.06.94zm10 10l.94 2.06.94-2.06 2.06-.94-2.06-.94-.94-2.06-.94 2.06-2.06.94z\"/><path d=\"M17.41 7.96l-1.37-1.37c-.4-.4-.92-.59-1.43-.59-.52 0-1.04.2-1.43.59L10.3 9.45l-7.72 7.72c-.78.78-.78 2.05 0 2.83L4 21.41c.39.39.9.59 1.41.59.51 0 1.02-.2 1.41-.59l7.78-7.78 2.81-2.81c.8-.78.8-2.07 0-2.86zM5.41 20L4 18.59l7.72-7.72 1.47 1.35L5.41 20z\"/>\n",
              "  </svg>\n",
              "      </button>\n",
              "\n",
              "\n",
              "\n",
              "    <div id=\"df-164b9a81-3b3c-4d9f-93c1-1b48f5f415c5\">\n",
              "      <button class=\"colab-df-quickchart\" onclick=\"quickchart('df-164b9a81-3b3c-4d9f-93c1-1b48f5f415c5')\"\n",
              "              title=\"Suggest charts.\"\n",
              "              style=\"display:none;\">\n",
              "\n",
              "<svg xmlns=\"http://www.w3.org/2000/svg\" height=\"24px\"viewBox=\"0 0 24 24\"\n",
              "     width=\"24px\">\n",
              "    <g>\n",
              "        <path d=\"M19 3H5c-1.1 0-2 .9-2 2v14c0 1.1.9 2 2 2h14c1.1 0 2-.9 2-2V5c0-1.1-.9-2-2-2zM9 17H7v-7h2v7zm4 0h-2V7h2v10zm4 0h-2v-4h2v4z\"/>\n",
              "    </g>\n",
              "</svg>\n",
              "      </button>\n",
              "    </div>\n",
              "\n",
              "<style>\n",
              "  .colab-df-quickchart {\n",
              "    background-color: #E8F0FE;\n",
              "    border: none;\n",
              "    border-radius: 50%;\n",
              "    cursor: pointer;\n",
              "    display: none;\n",
              "    fill: #1967D2;\n",
              "    height: 32px;\n",
              "    padding: 0 0 0 0;\n",
              "    width: 32px;\n",
              "  }\n",
              "\n",
              "  .colab-df-quickchart:hover {\n",
              "    background-color: #E2EBFA;\n",
              "    box-shadow: 0px 1px 2px rgba(60, 64, 67, 0.3), 0px 1px 3px 1px rgba(60, 64, 67, 0.15);\n",
              "    fill: #174EA6;\n",
              "  }\n",
              "\n",
              "  [theme=dark] .colab-df-quickchart {\n",
              "    background-color: #3B4455;\n",
              "    fill: #D2E3FC;\n",
              "  }\n",
              "\n",
              "  [theme=dark] .colab-df-quickchart:hover {\n",
              "    background-color: #434B5C;\n",
              "    box-shadow: 0px 1px 3px 1px rgba(0, 0, 0, 0.15);\n",
              "    filter: drop-shadow(0px 1px 2px rgba(0, 0, 0, 0.3));\n",
              "    fill: #FFFFFF;\n",
              "  }\n",
              "</style>\n",
              "\n",
              "    <script>\n",
              "      async function quickchart(key) {\n",
              "        const containerElement = document.querySelector('#' + key);\n",
              "        const charts = await google.colab.kernel.invokeFunction(\n",
              "            'suggestCharts', [key], {});\n",
              "      }\n",
              "    </script>\n",
              "\n",
              "      <script>\n",
              "\n",
              "function displayQuickchartButton(domScope) {\n",
              "  let quickchartButtonEl =\n",
              "    domScope.querySelector('#df-164b9a81-3b3c-4d9f-93c1-1b48f5f415c5 button.colab-df-quickchart');\n",
              "  quickchartButtonEl.style.display =\n",
              "    google.colab.kernel.accessAllowed ? 'block' : 'none';\n",
              "}\n",
              "\n",
              "        displayQuickchartButton(document);\n",
              "      </script>\n",
              "      <style>\n",
              "    .colab-df-container {\n",
              "      display:flex;\n",
              "      flex-wrap:wrap;\n",
              "      gap: 12px;\n",
              "    }\n",
              "\n",
              "    .colab-df-convert {\n",
              "      background-color: #E8F0FE;\n",
              "      border: none;\n",
              "      border-radius: 50%;\n",
              "      cursor: pointer;\n",
              "      display: none;\n",
              "      fill: #1967D2;\n",
              "      height: 32px;\n",
              "      padding: 0 0 0 0;\n",
              "      width: 32px;\n",
              "    }\n",
              "\n",
              "    .colab-df-convert:hover {\n",
              "      background-color: #E2EBFA;\n",
              "      box-shadow: 0px 1px 2px rgba(60, 64, 67, 0.3), 0px 1px 3px 1px rgba(60, 64, 67, 0.15);\n",
              "      fill: #174EA6;\n",
              "    }\n",
              "\n",
              "    [theme=dark] .colab-df-convert {\n",
              "      background-color: #3B4455;\n",
              "      fill: #D2E3FC;\n",
              "    }\n",
              "\n",
              "    [theme=dark] .colab-df-convert:hover {\n",
              "      background-color: #434B5C;\n",
              "      box-shadow: 0px 1px 3px 1px rgba(0, 0, 0, 0.15);\n",
              "      filter: drop-shadow(0px 1px 2px rgba(0, 0, 0, 0.3));\n",
              "      fill: #FFFFFF;\n",
              "    }\n",
              "  </style>\n",
              "\n",
              "      <script>\n",
              "        const buttonEl =\n",
              "          document.querySelector('#df-66fdc927-3324-4dc3-affa-131a08038ca8 button.colab-df-convert');\n",
              "        buttonEl.style.display =\n",
              "          google.colab.kernel.accessAllowed ? 'block' : 'none';\n",
              "\n",
              "        async function convertToInteractive(key) {\n",
              "          const element = document.querySelector('#df-66fdc927-3324-4dc3-affa-131a08038ca8');\n",
              "          const dataTable =\n",
              "            await google.colab.kernel.invokeFunction('convertToInteractive',\n",
              "                                                     [key], {});\n",
              "          if (!dataTable) return;\n",
              "\n",
              "          const docLinkHtml = 'Like what you see? Visit the ' +\n",
              "            '<a target=\"_blank\" href=https://colab.research.google.com/notebooks/data_table.ipynb>data table notebook</a>'\n",
              "            + ' to learn more about interactive tables.';\n",
              "          element.innerHTML = '';\n",
              "          dataTable['output_type'] = 'display_data';\n",
              "          await google.colab.output.renderOutput(dataTable, element);\n",
              "          const docLink = document.createElement('div');\n",
              "          docLink.innerHTML = docLinkHtml;\n",
              "          element.appendChild(docLink);\n",
              "        }\n",
              "      </script>\n",
              "    </div>\n",
              "  </div>\n"
            ]
          },
          "metadata": {},
          "execution_count": 14
        }
      ]
    },
    {
      "cell_type": "markdown",
      "source": [
        "Para identificar los tipos de datos:"
      ],
      "metadata": {
        "id": "owi8TmRoINeG"
      }
    },
    {
      "cell_type": "code",
      "source": [
        "df.info()"
      ],
      "metadata": {
        "colab": {
          "base_uri": "https://localhost:8080/"
        },
        "id": "Rd2Col_dITbh",
        "outputId": "ed74202a-80ca-46d6-8283-5976016534fb"
      },
      "execution_count": 15,
      "outputs": [
        {
          "output_type": "stream",
          "name": "stdout",
          "text": [
            "<class 'pandas.core.frame.DataFrame'>\n",
            "RangeIndex: 181915 entries, 0 to 181914\n",
            "Data columns (total 12 columns):\n",
            " #   Column              Non-Null Count   Dtype  \n",
            "---  ------              --------------   -----  \n",
            " 0   COUNTRY             181915 non-null  object \n",
            " 1   CODE_TIME           181915 non-null  object \n",
            " 2   TIME                181915 non-null  object \n",
            " 3   YEAR                181915 non-null  int64  \n",
            " 4   MONTH               181915 non-null  int64  \n",
            " 5   MONTH_NAME          181915 non-null  object \n",
            " 6   PRODUCT             181915 non-null  object \n",
            " 7   VALUE               181915 non-null  float64\n",
            " 8   DISPLAY_ORDER       181915 non-null  int64  \n",
            " 9   yearToDate          181915 non-null  float64\n",
            " 10  previousYearToDate  164810 non-null  float64\n",
            " 11  share               181915 non-null  float64\n",
            "dtypes: float64(4), int64(3), object(5)\n",
            "memory usage: 16.7+ MB\n"
          ]
        }
      ]
    },
    {
      "cell_type": "markdown",
      "source": [
        "Anáslisis exploratorio de los datos:\n",
        "\n",
        "El dataset sin limpieza contiene 12 tipos de variables, las cuales se pueden identificar así:\n",
        "\n",
        "1. Variables categóricas:\n",
        "\n",
        "- COUNTRY: Nombre del país\n",
        "- CODE_TIME: Código que representa MESAÑO\n",
        "- TIME: Mes y año en formato (mes de año)\n",
        "- MONTH_NAME: Nombre del mes\n",
        "- PRODUCT: Tipo de energía\n",
        "\n",
        "2. Variables numéricas:\n",
        "- YEAR: Año\n",
        "- MONTH: Mes\n",
        "- VALUE: Cantidad de energía generada en GWh\n",
        "- DISPLAY_ORDER: Orden para mostrar los productos\n",
        "- yearToDate: Cantidad de electricidad generada hasta el mes actual en el año específico\n",
        "- previousYearToDate: Histórico de la cantidad de energía generada para el año anterior hasta el mes actual en GWh (medida de comparación)\n",
        "- share: Aporte del producto en la generación total de electricidad para el país (Va desde 0 hasta 1)."
      ],
      "metadata": {
        "id": "qmBCAlLFDgbq"
      }
    },
    {
      "cell_type": "code",
      "source": [
        "df.shape"
      ],
      "metadata": {
        "colab": {
          "base_uri": "https://localhost:8080/"
        },
        "id": "trxLT5X2JmnT",
        "outputId": "c5b08216-400d-4a1a-d3de-c6af7b1bf410"
      },
      "execution_count": 16,
      "outputs": [
        {
          "output_type": "execute_result",
          "data": {
            "text/plain": [
              "(181915, 12)"
            ]
          },
          "metadata": {},
          "execution_count": 16
        }
      ]
    },
    {
      "cell_type": "markdown",
      "source": [
        "Debido a que hay datos que no aportan información, ya que se repiten o no son relevantes, se procede a eliminar las siguientes columnas:\n",
        "1. CODE_TIME\n",
        "2. TIME\n",
        "3. DISPLAY_ORDER"
      ],
      "metadata": {
        "id": "sdfFDQZRJxX3"
      }
    },
    {
      "cell_type": "code",
      "source": [
        "df.drop(['CODE_TIME', 'TIME', 'DISPLAY_ORDER'], axis=1, inplace=True)"
      ],
      "metadata": {
        "id": "oE5umuFEKO0f"
      },
      "execution_count": 17,
      "outputs": []
    },
    {
      "cell_type": "markdown",
      "source": [
        "Se trabajarán las siguientes columnas:\n",
        "1. COUNTRY\n",
        "2. YEAR\n",
        "3. MONTH_NAME\n",
        "4. PRODUCT\n",
        "5. VALUE"
      ],
      "metadata": {
        "id": "fMF8aGixKY8y"
      }
    },
    {
      "cell_type": "markdown",
      "source": [
        "Ahora podemos cambiar de nombre las variables:"
      ],
      "metadata": {
        "id": "ihDWoqPlRwtP"
      }
    },
    {
      "cell_type": "code",
      "source": [
        "df.rename(columns={'COUNTRY':'Pais',\n",
        "                   'YEAR':'year',\n",
        "                   'MONTH_NAME':'mes',\n",
        "                   'MONTH' : 'Mes',\n",
        "                   'PRODUCT':'energia',\n",
        "                   'VALUE':'cantidad',\n",
        "                   'share':'Aporte',\n",
        "                   'yearToDate' : 'CantidadAnual',\n",
        "                   'previousYearToDate' : 'Historico',\n",
        "                   },\n",
        "          inplace=True)"
      ],
      "metadata": {
        "id": "0L3Y14a9KuJH"
      },
      "execution_count": 97,
      "outputs": []
    },
    {
      "cell_type": "markdown",
      "source": [
        "Ahora, debido a que nuestro interés se centra en explorar el caso para Colombia, se debe filtrar el conjunto de datos."
      ],
      "metadata": {
        "id": "oJV6zbOrK9Ec"
      }
    },
    {
      "cell_type": "code",
      "source": [
        "filt = (df['pais'] == 'Colombia')\n",
        "df = df.loc[filt]"
      ],
      "metadata": {
        "id": "j7YJxxrtLGo1"
      },
      "execution_count": 98,
      "outputs": []
    },
    {
      "cell_type": "markdown",
      "source": [
        "Podemos explorar la cantidad de datos que hay para el país Colombia"
      ],
      "metadata": {
        "id": "jW4a779SLXdm"
      }
    },
    {
      "cell_type": "code",
      "source": [
        "df.info()"
      ],
      "metadata": {
        "colab": {
          "base_uri": "https://localhost:8080/"
        },
        "id": "r7TirISrLbte",
        "outputId": "168cee40-14d3-4538-9d98-4fcc241139ef"
      },
      "execution_count": 99,
      "outputs": [
        {
          "output_type": "stream",
          "name": "stdout",
          "text": [
            "<class 'pandas.core.frame.DataFrame'>\n",
            "Int64Index: 2548 entries, 46557 to 180953\n",
            "Data columns (total 9 columns):\n",
            " #   Column         Non-Null Count  Dtype  \n",
            "---  ------         --------------  -----  \n",
            " 0   pais           2548 non-null   object \n",
            " 1   ano            2548 non-null   int64  \n",
            " 2   Mes            2548 non-null   int64  \n",
            " 3   mes            2548 non-null   object \n",
            " 4   energia        2548 non-null   object \n",
            " 5   cantidad       2548 non-null   float64\n",
            " 6   CantidadAnual  2548 non-null   float64\n",
            " 7   Historico      2221 non-null   float64\n",
            " 8   aporte         2548 non-null   float64\n",
            "dtypes: float64(4), int64(2), object(3)\n",
            "memory usage: 199.1+ KB\n"
          ]
        }
      ]
    },
    {
      "cell_type": "markdown",
      "source": [
        "Realizando un análisis de la estadística descriptiva del conjunto de datos que tenemos en el momento:"
      ],
      "metadata": {
        "id": "pBUB_dYJOPuB"
      }
    },
    {
      "cell_type": "code",
      "source": [
        "df.describe()"
      ],
      "metadata": {
        "colab": {
          "base_uri": "https://localhost:8080/",
          "height": 300
        },
        "id": "yUIo9eUnNUEJ",
        "outputId": "c627adc2-f19e-4afb-8ffa-9eda17a845d9"
      },
      "execution_count": 100,
      "outputs": [
        {
          "output_type": "execute_result",
          "data": {
            "text/plain": [
              "               ano          Mes     cantidad  CantidadAnual     Historico  \\\n",
              "count  2548.000000  2548.000000  2548.000000    2548.000000   2221.000000   \n",
              "mean   2018.164835     6.489403  1738.288980   20859.387345  11305.965745   \n",
              "std       2.505649     3.448808  2306.595288   27543.986218  17623.647931   \n",
              "min    2014.000000     1.000000  -224.307384   -1301.589000  -1301.589000   \n",
              "25%    2016.000000     3.000000     5.847761      69.609358     62.829442   \n",
              "50%    2018.000000     6.000000   319.006087    3825.121000   2120.757444   \n",
              "75%    2020.000000     9.000000  3309.060848   47249.092000  15181.601989   \n",
              "max    2022.000000    12.000000  7328.362363   85124.050543  81511.598561   \n",
              "\n",
              "            aporte  \n",
              "count  2548.000000  \n",
              "mean      0.269870  \n",
              "std       0.356125  \n",
              "min      -0.037199  \n",
              "25%       0.000915  \n",
              "50%       0.048288  \n",
              "75%       0.532113  \n",
              "max       1.037199  "
            ],
            "text/html": [
              "\n",
              "\n",
              "  <div id=\"df-201b3eab-eb4c-4673-a2bf-e968b63098dc\">\n",
              "    <div class=\"colab-df-container\">\n",
              "      <div>\n",
              "<style scoped>\n",
              "    .dataframe tbody tr th:only-of-type {\n",
              "        vertical-align: middle;\n",
              "    }\n",
              "\n",
              "    .dataframe tbody tr th {\n",
              "        vertical-align: top;\n",
              "    }\n",
              "\n",
              "    .dataframe thead th {\n",
              "        text-align: right;\n",
              "    }\n",
              "</style>\n",
              "<table border=\"1\" class=\"dataframe\">\n",
              "  <thead>\n",
              "    <tr style=\"text-align: right;\">\n",
              "      <th></th>\n",
              "      <th>ano</th>\n",
              "      <th>Mes</th>\n",
              "      <th>cantidad</th>\n",
              "      <th>CantidadAnual</th>\n",
              "      <th>Historico</th>\n",
              "      <th>aporte</th>\n",
              "    </tr>\n",
              "  </thead>\n",
              "  <tbody>\n",
              "    <tr>\n",
              "      <th>count</th>\n",
              "      <td>2548.000000</td>\n",
              "      <td>2548.000000</td>\n",
              "      <td>2548.000000</td>\n",
              "      <td>2548.000000</td>\n",
              "      <td>2221.000000</td>\n",
              "      <td>2548.000000</td>\n",
              "    </tr>\n",
              "    <tr>\n",
              "      <th>mean</th>\n",
              "      <td>2018.164835</td>\n",
              "      <td>6.489403</td>\n",
              "      <td>1738.288980</td>\n",
              "      <td>20859.387345</td>\n",
              "      <td>11305.965745</td>\n",
              "      <td>0.269870</td>\n",
              "    </tr>\n",
              "    <tr>\n",
              "      <th>std</th>\n",
              "      <td>2.505649</td>\n",
              "      <td>3.448808</td>\n",
              "      <td>2306.595288</td>\n",
              "      <td>27543.986218</td>\n",
              "      <td>17623.647931</td>\n",
              "      <td>0.356125</td>\n",
              "    </tr>\n",
              "    <tr>\n",
              "      <th>min</th>\n",
              "      <td>2014.000000</td>\n",
              "      <td>1.000000</td>\n",
              "      <td>-224.307384</td>\n",
              "      <td>-1301.589000</td>\n",
              "      <td>-1301.589000</td>\n",
              "      <td>-0.037199</td>\n",
              "    </tr>\n",
              "    <tr>\n",
              "      <th>25%</th>\n",
              "      <td>2016.000000</td>\n",
              "      <td>3.000000</td>\n",
              "      <td>5.847761</td>\n",
              "      <td>69.609358</td>\n",
              "      <td>62.829442</td>\n",
              "      <td>0.000915</td>\n",
              "    </tr>\n",
              "    <tr>\n",
              "      <th>50%</th>\n",
              "      <td>2018.000000</td>\n",
              "      <td>6.000000</td>\n",
              "      <td>319.006087</td>\n",
              "      <td>3825.121000</td>\n",
              "      <td>2120.757444</td>\n",
              "      <td>0.048288</td>\n",
              "    </tr>\n",
              "    <tr>\n",
              "      <th>75%</th>\n",
              "      <td>2020.000000</td>\n",
              "      <td>9.000000</td>\n",
              "      <td>3309.060848</td>\n",
              "      <td>47249.092000</td>\n",
              "      <td>15181.601989</td>\n",
              "      <td>0.532113</td>\n",
              "    </tr>\n",
              "    <tr>\n",
              "      <th>max</th>\n",
              "      <td>2022.000000</td>\n",
              "      <td>12.000000</td>\n",
              "      <td>7328.362363</td>\n",
              "      <td>85124.050543</td>\n",
              "      <td>81511.598561</td>\n",
              "      <td>1.037199</td>\n",
              "    </tr>\n",
              "  </tbody>\n",
              "</table>\n",
              "</div>\n",
              "      <button class=\"colab-df-convert\" onclick=\"convertToInteractive('df-201b3eab-eb4c-4673-a2bf-e968b63098dc')\"\n",
              "              title=\"Convert this dataframe to an interactive table.\"\n",
              "              style=\"display:none;\">\n",
              "\n",
              "  <svg xmlns=\"http://www.w3.org/2000/svg\" height=\"24px\"viewBox=\"0 0 24 24\"\n",
              "       width=\"24px\">\n",
              "    <path d=\"M0 0h24v24H0V0z\" fill=\"none\"/>\n",
              "    <path d=\"M18.56 5.44l.94 2.06.94-2.06 2.06-.94-2.06-.94-.94-2.06-.94 2.06-2.06.94zm-11 1L8.5 8.5l.94-2.06 2.06-.94-2.06-.94L8.5 2.5l-.94 2.06-2.06.94zm10 10l.94 2.06.94-2.06 2.06-.94-2.06-.94-.94-2.06-.94 2.06-2.06.94z\"/><path d=\"M17.41 7.96l-1.37-1.37c-.4-.4-.92-.59-1.43-.59-.52 0-1.04.2-1.43.59L10.3 9.45l-7.72 7.72c-.78.78-.78 2.05 0 2.83L4 21.41c.39.39.9.59 1.41.59.51 0 1.02-.2 1.41-.59l7.78-7.78 2.81-2.81c.8-.78.8-2.07 0-2.86zM5.41 20L4 18.59l7.72-7.72 1.47 1.35L5.41 20z\"/>\n",
              "  </svg>\n",
              "      </button>\n",
              "\n",
              "\n",
              "\n",
              "    <div id=\"df-b19dd7f1-c6e8-417d-aff9-418f3bd42e9b\">\n",
              "      <button class=\"colab-df-quickchart\" onclick=\"quickchart('df-b19dd7f1-c6e8-417d-aff9-418f3bd42e9b')\"\n",
              "              title=\"Suggest charts.\"\n",
              "              style=\"display:none;\">\n",
              "\n",
              "<svg xmlns=\"http://www.w3.org/2000/svg\" height=\"24px\"viewBox=\"0 0 24 24\"\n",
              "     width=\"24px\">\n",
              "    <g>\n",
              "        <path d=\"M19 3H5c-1.1 0-2 .9-2 2v14c0 1.1.9 2 2 2h14c1.1 0 2-.9 2-2V5c0-1.1-.9-2-2-2zM9 17H7v-7h2v7zm4 0h-2V7h2v10zm4 0h-2v-4h2v4z\"/>\n",
              "    </g>\n",
              "</svg>\n",
              "      </button>\n",
              "    </div>\n",
              "\n",
              "<style>\n",
              "  .colab-df-quickchart {\n",
              "    background-color: #E8F0FE;\n",
              "    border: none;\n",
              "    border-radius: 50%;\n",
              "    cursor: pointer;\n",
              "    display: none;\n",
              "    fill: #1967D2;\n",
              "    height: 32px;\n",
              "    padding: 0 0 0 0;\n",
              "    width: 32px;\n",
              "  }\n",
              "\n",
              "  .colab-df-quickchart:hover {\n",
              "    background-color: #E2EBFA;\n",
              "    box-shadow: 0px 1px 2px rgba(60, 64, 67, 0.3), 0px 1px 3px 1px rgba(60, 64, 67, 0.15);\n",
              "    fill: #174EA6;\n",
              "  }\n",
              "\n",
              "  [theme=dark] .colab-df-quickchart {\n",
              "    background-color: #3B4455;\n",
              "    fill: #D2E3FC;\n",
              "  }\n",
              "\n",
              "  [theme=dark] .colab-df-quickchart:hover {\n",
              "    background-color: #434B5C;\n",
              "    box-shadow: 0px 1px 3px 1px rgba(0, 0, 0, 0.15);\n",
              "    filter: drop-shadow(0px 1px 2px rgba(0, 0, 0, 0.3));\n",
              "    fill: #FFFFFF;\n",
              "  }\n",
              "</style>\n",
              "\n",
              "    <script>\n",
              "      async function quickchart(key) {\n",
              "        const containerElement = document.querySelector('#' + key);\n",
              "        const charts = await google.colab.kernel.invokeFunction(\n",
              "            'suggestCharts', [key], {});\n",
              "      }\n",
              "    </script>\n",
              "\n",
              "      <script>\n",
              "\n",
              "function displayQuickchartButton(domScope) {\n",
              "  let quickchartButtonEl =\n",
              "    domScope.querySelector('#df-b19dd7f1-c6e8-417d-aff9-418f3bd42e9b button.colab-df-quickchart');\n",
              "  quickchartButtonEl.style.display =\n",
              "    google.colab.kernel.accessAllowed ? 'block' : 'none';\n",
              "}\n",
              "\n",
              "        displayQuickchartButton(document);\n",
              "      </script>\n",
              "      <style>\n",
              "    .colab-df-container {\n",
              "      display:flex;\n",
              "      flex-wrap:wrap;\n",
              "      gap: 12px;\n",
              "    }\n",
              "\n",
              "    .colab-df-convert {\n",
              "      background-color: #E8F0FE;\n",
              "      border: none;\n",
              "      border-radius: 50%;\n",
              "      cursor: pointer;\n",
              "      display: none;\n",
              "      fill: #1967D2;\n",
              "      height: 32px;\n",
              "      padding: 0 0 0 0;\n",
              "      width: 32px;\n",
              "    }\n",
              "\n",
              "    .colab-df-convert:hover {\n",
              "      background-color: #E2EBFA;\n",
              "      box-shadow: 0px 1px 2px rgba(60, 64, 67, 0.3), 0px 1px 3px 1px rgba(60, 64, 67, 0.15);\n",
              "      fill: #174EA6;\n",
              "    }\n",
              "\n",
              "    [theme=dark] .colab-df-convert {\n",
              "      background-color: #3B4455;\n",
              "      fill: #D2E3FC;\n",
              "    }\n",
              "\n",
              "    [theme=dark] .colab-df-convert:hover {\n",
              "      background-color: #434B5C;\n",
              "      box-shadow: 0px 1px 3px 1px rgba(0, 0, 0, 0.15);\n",
              "      filter: drop-shadow(0px 1px 2px rgba(0, 0, 0, 0.3));\n",
              "      fill: #FFFFFF;\n",
              "    }\n",
              "  </style>\n",
              "\n",
              "      <script>\n",
              "        const buttonEl =\n",
              "          document.querySelector('#df-201b3eab-eb4c-4673-a2bf-e968b63098dc button.colab-df-convert');\n",
              "        buttonEl.style.display =\n",
              "          google.colab.kernel.accessAllowed ? 'block' : 'none';\n",
              "\n",
              "        async function convertToInteractive(key) {\n",
              "          const element = document.querySelector('#df-201b3eab-eb4c-4673-a2bf-e968b63098dc');\n",
              "          const dataTable =\n",
              "            await google.colab.kernel.invokeFunction('convertToInteractive',\n",
              "                                                     [key], {});\n",
              "          if (!dataTable) return;\n",
              "\n",
              "          const docLinkHtml = 'Like what you see? Visit the ' +\n",
              "            '<a target=\"_blank\" href=https://colab.research.google.com/notebooks/data_table.ipynb>data table notebook</a>'\n",
              "            + ' to learn more about interactive tables.';\n",
              "          element.innerHTML = '';\n",
              "          dataTable['output_type'] = 'display_data';\n",
              "          await google.colab.output.renderOutput(dataTable, element);\n",
              "          const docLink = document.createElement('div');\n",
              "          docLink.innerHTML = docLinkHtml;\n",
              "          element.appendChild(docLink);\n",
              "        }\n",
              "      </script>\n",
              "    </div>\n",
              "  </div>\n"
            ]
          },
          "metadata": {},
          "execution_count": 100
        }
      ]
    },
    {
      "cell_type": "markdown",
      "source": [
        "# Visualización de cantidad de energía producida por cada tipo de energía"
      ],
      "metadata": {
        "id": "XRC0C7OELo1R"
      }
    },
    {
      "cell_type": "code",
      "source": [
        "order = df.groupby('energia').mean()['cantidad'].sort_values(ascending=False).head(5).index\n",
        "\n",
        "fig, ax = plt.subplots(figsize=(8, 8))\n",
        "fig.suptitle('Cantidad de energía clasificada por tipo de producción')\n",
        "sns.barplot(data=df, x='cantidad', y='energia', ax=ax, estimator='mean', errorbar=None, order=order, palette='rocket')\n",
        "ax.set_xlabel('Producción de Energía [GWh]')\n",
        "ax.set_ylabel('Tipo de energía')\n",
        "\n",
        "plt.tight_layout()"
      ],
      "metadata": {
        "colab": {
          "base_uri": "https://localhost:8080/",
          "height": 861
        },
        "id": "V9LD79h-L16s",
        "outputId": "b59e51b7-928e-4d2e-99d0-173935e6bab6"
      },
      "execution_count": 107,
      "outputs": [
        {
          "output_type": "stream",
          "name": "stderr",
          "text": [
            "<ipython-input-107-e103a83520e7>:1: FutureWarning: The default value of numeric_only in DataFrameGroupBy.mean is deprecated. In a future version, numeric_only will default to False. Either specify numeric_only or select only columns which should be valid for the function.\n",
            "  order = df.groupby('energia').mean()['cantidad'].sort_values(ascending=False).head(5).index\n"
          ]
        },
        {
          "output_type": "display_data",
          "data": {
            "text/plain": [
              "<Figure size 800x800 with 1 Axes>"
            ],
            "image/png": "[encoded data removed]"
          },
          "metadata": {}
        }
      ]
    },
    {
      "cell_type": "markdown",
      "source": [
        "Filtrando por energías:\n",
        "- Eólica\n",
        "- Solar\n",
        "- Nuclear\n",
        "- Gas natural\n",
        "- Hidraúlica\n",
        "- Carbón\n",
        "- Otras"
      ],
      "metadata": {
        "id": "9teEiQVgpovP"
      }
    },
    {
      "cell_type": "code",
      "source": [
        "filt = ['Wind', 'Solar', 'Others', 'Nuclear', 'Natural gas', 'Hydro', 'Coal']\n",
        "df_gen = df[df['energia'].isin(filt)]"
      ],
      "metadata": {
        "id": "jm8MBFqGpLhU"
      },
      "execution_count": 111,
      "outputs": []
    },
    {
      "cell_type": "code",
      "source": [
        "df_gen.head()"
      ],
      "metadata": {
        "colab": {
          "base_uri": "https://localhost:8080/",
          "height": 206
        },
        "id": "U2wxXRdcpbWF",
        "outputId": "83285457-72ec-48b2-bb65-c41e35d6dca5"
      },
      "execution_count": 112,
      "outputs": [
        {
          "output_type": "execute_result",
          "data": {
            "text/plain": [
              "           pais   ano  Mes      mes      energia  cantidad  CantidadAnual  \\\n",
              "46557  Colombia  2014    1  January        Hydro  3903.977      47249.092   \n",
              "46558  Colombia  2014    1  January         Wind     5.648         69.482   \n",
              "46559  Colombia  2014    1  January        Solar     1.065          8.947   \n",
              "46561  Colombia  2014    1  January         Coal   521.938       5152.090   \n",
              "46563  Colombia  2014    1  January  Natural gas  1031.146      13365.401   \n",
              "\n",
              "       Historico    aporte  \n",
              "46557        NaN  0.684582  \n",
              "46558        NaN  0.000990  \n",
              "46559        NaN  0.000187  \n",
              "46561        NaN  0.091524  \n",
              "46563        NaN  0.180817  "
            ],
            "text/html": [
              "\n",
              "\n",
              "  <div id=\"df-f9b3196e-061b-4fd3-be28-40baf939181f\">\n",
              "    <div class=\"colab-df-container\">\n",
              "      <div>\n",
              "<style scoped>\n",
              "    .dataframe tbody tr th:only-of-type {\n",
              "        vertical-align: middle;\n",
              "    }\n",
              "\n",
              "    .dataframe tbody tr th {\n",
              "        vertical-align: top;\n",
              "    }\n",
              "\n",
              "    .dataframe thead th {\n",
              "        text-align: right;\n",
              "    }\n",
              "</style>\n",
              "<table border=\"1\" class=\"dataframe\">\n",
              "  <thead>\n",
              "    <tr style=\"text-align: right;\">\n",
              "      <th></th>\n",
              "      <th>pais</th>\n",
              "      <th>ano</th>\n",
              "      <th>Mes</th>\n",
              "      <th>mes</th>\n",
              "      <th>energia</th>\n",
              "      <th>cantidad</th>\n",
              "      <th>CantidadAnual</th>\n",
              "      <th>Historico</th>\n",
              "      <th>aporte</th>\n",
              "    </tr>\n",
              "  </thead>\n",
              "  <tbody>\n",
              "    <tr>\n",
              "      <th>46557</th>\n",
              "      <td>Colombia</td>\n",
              "      <td>2014</td>\n",
              "      <td>1</td>\n",
              "      <td>January</td>\n",
              "      <td>Hydro</td>\n",
              "      <td>3903.977</td>\n",
              "      <td>47249.092</td>\n",
              "      <td>NaN</td>\n",
              "      <td>0.684582</td>\n",
              "    </tr>\n",
              "    <tr>\n",
              "      <th>46558</th>\n",
              "      <td>Colombia</td>\n",
              "      <td>2014</td>\n",
              "      <td>1</td>\n",
              "      <td>January</td>\n",
              "      <td>Wind</td>\n",
              "      <td>5.648</td>\n",
              "      <td>69.482</td>\n",
              "      <td>NaN</td>\n",
              "      <td>0.000990</td>\n",
              "    </tr>\n",
              "    <tr>\n",
              "      <th>46559</th>\n",
              "      <td>Colombia</td>\n",
              "      <td>2014</td>\n",
              "      <td>1</td>\n",
              "      <td>January</td>\n",
              "      <td>Solar</td>\n",
              "      <td>1.065</td>\n",
              "      <td>8.947</td>\n",
              "      <td>NaN</td>\n",
              "      <td>0.000187</td>\n",
              "    </tr>\n",
              "    <tr>\n",
              "      <th>46561</th>\n",
              "      <td>Colombia</td>\n",
              "      <td>2014</td>\n",
              "      <td>1</td>\n",
              "      <td>January</td>\n",
              "      <td>Coal</td>\n",
              "      <td>521.938</td>\n",
              "      <td>5152.090</td>\n",
              "      <td>NaN</td>\n",
              "      <td>0.091524</td>\n",
              "    </tr>\n",
              "    <tr>\n",
              "      <th>46563</th>\n",
              "      <td>Colombia</td>\n",
              "      <td>2014</td>\n",
              "      <td>1</td>\n",
              "      <td>January</td>\n",
              "      <td>Natural gas</td>\n",
              "      <td>1031.146</td>\n",
              "      <td>13365.401</td>\n",
              "      <td>NaN</td>\n",
              "      <td>0.180817</td>\n",
              "    </tr>\n",
              "  </tbody>\n",
              "</table>\n",
              "</div>\n",
              "      <button class=\"colab-df-convert\" onclick=\"convertToInteractive('df-f9b3196e-061b-4fd3-be28-40baf939181f')\"\n",
              "              title=\"Convert this dataframe to an interactive table.\"\n",
              "              style=\"display:none;\">\n",
              "\n",
              "  <svg xmlns=\"http://www.w3.org/2000/svg\" height=\"24px\"viewBox=\"0 0 24 24\"\n",
              "       width=\"24px\">\n",
              "    <path d=\"M0 0h24v24H0V0z\" fill=\"none\"/>\n",
              "    <path d=\"M18.56 5.44l.94 2.06.94-2.06 2.06-.94-2.06-.94-.94-2.06-.94 2.06-2.06.94zm-11 1L8.5 8.5l.94-2.06 2.06-.94-2.06-.94L8.5 2.5l-.94 2.06-2.06.94zm10 10l.94 2.06.94-2.06 2.06-.94-2.06-.94-.94-2.06-.94 2.06-2.06.94z\"/><path d=\"M17.41 7.96l-1.37-1.37c-.4-.4-.92-.59-1.43-.59-.52 0-1.04.2-1.43.59L10.3 9.45l-7.72 7.72c-.78.78-.78 2.05 0 2.83L4 21.41c.39.39.9.59 1.41.59.51 0 1.02-.2 1.41-.59l7.78-7.78 2.81-2.81c.8-.78.8-2.07 0-2.86zM5.41 20L4 18.59l7.72-7.72 1.47 1.35L5.41 20z\"/>\n",
              "  </svg>\n",
              "      </button>\n",
              "\n",
              "\n",
              "\n",
              "    <div id=\"df-60c71474-96f0-4a0b-9ca4-2ef18e3fa52a\">\n",
              "      <button class=\"colab-df-quickchart\" onclick=\"quickchart('df-60c71474-96f0-4a0b-9ca4-2ef18e3fa52a')\"\n",
              "              title=\"Suggest charts.\"\n",
              "              style=\"display:none;\">\n",
              "\n",
              "<svg xmlns=\"http://www.w3.org/2000/svg\" height=\"24px\"viewBox=\"0 0 24 24\"\n",
              "     width=\"24px\">\n",
              "    <g>\n",
              "        <path d=\"M19 3H5c-1.1 0-2 .9-2 2v14c0 1.1.9 2 2 2h14c1.1 0 2-.9 2-2V5c0-1.1-.9-2-2-2zM9 17H7v-7h2v7zm4 0h-2V7h2v10zm4 0h-2v-4h2v4z\"/>\n",
              "    </g>\n",
              "</svg>\n",
              "      </button>\n",
              "    </div>\n",
              "\n",
              "<style>\n",
              "  .colab-df-quickchart {\n",
              "    background-color: #E8F0FE;\n",
              "    border: none;\n",
              "    border-radius: 50%;\n",
              "    cursor: pointer;\n",
              "    display: none;\n",
              "    fill: #1967D2;\n",
              "    height: 32px;\n",
              "    padding: 0 0 0 0;\n",
              "    width: 32px;\n",
              "  }\n",
              "\n",
              "  .colab-df-quickchart:hover {\n",
              "    background-color: #E2EBFA;\n",
              "    box-shadow: 0px 1px 2px rgba(60, 64, 67, 0.3), 0px 1px 3px 1px rgba(60, 64, 67, 0.15);\n",
              "    fill: #174EA6;\n",
              "  }\n",
              "\n",
              "  [theme=dark] .colab-df-quickchart {\n",
              "    background-color: #3B4455;\n",
              "    fill: #D2E3FC;\n",
              "  }\n",
              "\n",
              "  [theme=dark] .colab-df-quickchart:hover {\n",
              "    background-color: #434B5C;\n",
              "    box-shadow: 0px 1px 3px 1px rgba(0, 0, 0, 0.15);\n",
              "    filter: drop-shadow(0px 1px 2px rgba(0, 0, 0, 0.3));\n",
              "    fill: #FFFFFF;\n",
              "  }\n",
              "</style>\n",
              "\n",
              "    <script>\n",
              "      async function quickchart(key) {\n",
              "        const containerElement = document.querySelector('#' + key);\n",
              "        const charts = await google.colab.kernel.invokeFunction(\n",
              "            'suggestCharts', [key], {});\n",
              "      }\n",
              "    </script>\n",
              "\n",
              "      <script>\n",
              "\n",
              "function displayQuickchartButton(domScope) {\n",
              "  let quickchartButtonEl =\n",
              "    domScope.querySelector('#df-60c71474-96f0-4a0b-9ca4-2ef18e3fa52a button.colab-df-quickchart');\n",
              "  quickchartButtonEl.style.display =\n",
              "    google.colab.kernel.accessAllowed ? 'block' : 'none';\n",
              "}\n",
              "\n",
              "        displayQuickchartButton(document);\n",
              "      </script>\n",
              "      <style>\n",
              "    .colab-df-container {\n",
              "      display:flex;\n",
              "      flex-wrap:wrap;\n",
              "      gap: 12px;\n",
              "    }\n",
              "\n",
              "    .colab-df-convert {\n",
              "      background-color: #E8F0FE;\n",
              "      border: none;\n",
              "      border-radius: 50%;\n",
              "      cursor: pointer;\n",
              "      display: none;\n",
              "      fill: #1967D2;\n",
              "      height: 32px;\n",
              "      padding: 0 0 0 0;\n",
              "      width: 32px;\n",
              "    }\n",
              "\n",
              "    .colab-df-convert:hover {\n",
              "      background-color: #E2EBFA;\n",
              "      box-shadow: 0px 1px 2px rgba(60, 64, 67, 0.3), 0px 1px 3px 1px rgba(60, 64, 67, 0.15);\n",
              "      fill: #174EA6;\n",
              "    }\n",
              "\n",
              "    [theme=dark] .colab-df-convert {\n",
              "      background-color: #3B4455;\n",
              "      fill: #D2E3FC;\n",
              "    }\n",
              "\n",
              "    [theme=dark] .colab-df-convert:hover {\n",
              "      background-color: #434B5C;\n",
              "      box-shadow: 0px 1px 3px 1px rgba(0, 0, 0, 0.15);\n",
              "      filter: drop-shadow(0px 1px 2px rgba(0, 0, 0, 0.3));\n",
              "      fill: #FFFFFF;\n",
              "    }\n",
              "  </style>\n",
              "\n",
              "      <script>\n",
              "        const buttonEl =\n",
              "          document.querySelector('#df-f9b3196e-061b-4fd3-be28-40baf939181f button.colab-df-convert');\n",
              "        buttonEl.style.display =\n",
              "          google.colab.kernel.accessAllowed ? 'block' : 'none';\n",
              "\n",
              "        async function convertToInteractive(key) {\n",
              "          const element = document.querySelector('#df-f9b3196e-061b-4fd3-be28-40baf939181f');\n",
              "          const dataTable =\n",
              "            await google.colab.kernel.invokeFunction('convertToInteractive',\n",
              "                                                     [key], {});\n",
              "          if (!dataTable) return;\n",
              "\n",
              "          const docLinkHtml = 'Like what you see? Visit the ' +\n",
              "            '<a target=\"_blank\" href=https://colab.research.google.com/notebooks/data_table.ipynb>data table notebook</a>'\n",
              "            + ' to learn more about interactive tables.';\n",
              "          element.innerHTML = '';\n",
              "          dataTable['output_type'] = 'display_data';\n",
              "          await google.colab.output.renderOutput(dataTable, element);\n",
              "          const docLink = document.createElement('div');\n",
              "          docLink.innerHTML = docLinkHtml;\n",
              "          element.appendChild(docLink);\n",
              "        }\n",
              "      </script>\n",
              "    </div>\n",
              "  </div>\n"
            ]
          },
          "metadata": {},
          "execution_count": 112
        }
      ]
    },
    {
      "cell_type": "markdown",
      "source": [
        "Ahora podemos producir un gráfico de torta para ver el top 5"
      ],
      "metadata": {
        "id": "1NTFLYA4p8-O"
      }
    },
    {
      "cell_type": "code",
      "source": [
        "matriz = df_gen.groupby('energia').sum()['cantidad'].sort_values(ascending=False).head(5).index"
      ],
      "metadata": {
        "colab": {
          "base_uri": "https://localhost:8080/"
        },
        "id": "cy9S1KHgqEAC",
        "outputId": "a13e0337-b657-497b-cd82-e1f9f8494d80"
      },
      "execution_count": 117,
      "outputs": [
        {
          "output_type": "stream",
          "name": "stderr",
          "text": [
            "<ipython-input-117-91850dc465f5>:1: FutureWarning: The default value of numeric_only in DataFrameGroupBy.sum is deprecated. In a future version, numeric_only will default to False. Either specify numeric_only or select only columns which should be valid for the function.\n",
            "  matriz = df_gen.groupby('energia').sum()['cantidad'].sort_values(ascending=False).head(5).index\n"
          ]
        }
      ]
    },
    {
      "cell_type": "code",
      "source": [
        "matriz"
      ],
      "metadata": {
        "colab": {
          "base_uri": "https://localhost:8080/"
        },
        "id": "NdqETyxFqmZO",
        "outputId": "8ff55e68-31dc-4e0f-9d36-8917f277588c"
      },
      "execution_count": 118,
      "outputs": [
        {
          "output_type": "execute_result",
          "data": {
            "text/plain": [
              "Index(['Hydro', 'Natural gas', 'Coal', 'Others', 'Solar'], dtype='object', name='energia')"
            ]
          },
          "metadata": {},
          "execution_count": 118
        }
      ]
    },
    {
      "cell_type": "markdown",
      "source": [
        "Como se observa, se genera una clasificación del top 5 de las fuentes energética más renovables."
      ],
      "metadata": {
        "id": "mszYbU12qqeE"
      }
    },
    {
      "cell_type": "code",
      "source": [
        "order = df_gen.groupby('energia').mean()['cantidad'].sort_values(ascending=False).head(3).index\n",
        "\n",
        "fig, ax = plt.subplots(figsize=(10, 4))\n",
        "fig.suptitle('Fuentes de energía')\n",
        "\n",
        "sns.barplot(data=df_gen, x='cantidad', y='energia', ax=ax, estimator='mean', errorbar=None, order=order)\n",
        "ax.set_xlabel('Producción energética promedio [GWh]')\n",
        "ax.set_ylabel('Tipo de energía')\n",
        "\n",
        "plt.tight_layout()"
      ],
      "metadata": {
        "colab": {
          "base_uri": "https://localhost:8080/",
          "height": 453
        },
        "id": "Sfr8qP_2rpno",
        "outputId": "2bfa4981-b5cb-4d61-e120-4dbe982c4ee2"
      },
      "execution_count": 146,
      "outputs": [
        {
          "output_type": "stream",
          "name": "stderr",
          "text": [
            "<ipython-input-146-50281445227a>:1: FutureWarning: The default value of numeric_only in DataFrameGroupBy.mean is deprecated. In a future version, numeric_only will default to False. Either specify numeric_only or select only columns which should be valid for the function.\n",
            "  order = df_gen.groupby('energia').mean()['cantidad'].sort_values(ascending=False).head(3).index\n"
          ]
        },
        {
          "output_type": "display_data",
          "data": {
            "text/plain": [
              "<Figure size 1000x400 with 1 Axes>"
            ],
            "image/png": "[encoded data removed]"
          },
          "metadata": {}
        }
      ]
    },
    {
      "cell_type": "markdown",
      "source": [
        "Finalmente, evaluando la pregunta de si se producen más energías renovables que no renovables, debemos evaluar la producción general de acuerdo a la clasificación binaria."
      ],
      "metadata": {
        "id": "-WYQcUHDsalF"
      }
    },
    {
      "cell_type": "code",
      "source": [
        "filt = ['Non-renewables', 'Renewables']\n",
        "df_nr = df[df['energia'].isin(filt)]"
      ],
      "metadata": {
        "id": "EhAg5k9Xs-Mm"
      },
      "execution_count": 125,
      "outputs": []
    },
    {
      "cell_type": "code",
      "source": [
        "total = df_nr.groupby('energia').sum()['cantidad'].sort_values(ascending=False)"
      ],
      "metadata": {
        "colab": {
          "base_uri": "https://localhost:8080/"
        },
        "id": "4ez65Wjis2Ko",
        "outputId": "1e8ab838-2e07-4759-898b-766428ca95ee"
      },
      "execution_count": 128,
      "outputs": [
        {
          "output_type": "stream",
          "name": "stderr",
          "text": [
            "<ipython-input-128-abcedf6d6b2e>:1: FutureWarning: The default value of numeric_only in DataFrameGroupBy.sum is deprecated. In a future version, numeric_only will default to False. Either specify numeric_only or select only columns which should be valid for the function.\n",
            "  total = df_nr.groupby('energia').sum()['cantidad'].sort_values(ascending=False)\n"
          ]
        }
      ]
    },
    {
      "cell_type": "markdown",
      "source": [
        "Visualizando el conjunto de datos filtrado"
      ],
      "metadata": {
        "id": "aGXs_8tUtPbP"
      }
    },
    {
      "cell_type": "code",
      "source": [
        "df_nr.head()"
      ],
      "metadata": {
        "colab": {
          "base_uri": "https://localhost:8080/",
          "height": 206
        },
        "id": "Ge6M2JMCtRdT",
        "outputId": "a80e3fd2-c6c5-4a99-e289-0cae9cb5ad9b"
      },
      "execution_count": 129,
      "outputs": [
        {
          "output_type": "execute_result",
          "data": {
            "text/plain": [
              "           pais   ano  Mes       mes         energia  cantidad  CantidadAnual  \\\n",
              "46572  Colombia  2014    1   January      Renewables  4010.411      48591.614   \n",
              "46573  Colombia  2014    1   January  Non-renewables  1692.303      20435.682   \n",
              "47563  Colombia  2014    2  February      Renewables  3703.603      48591.614   \n",
              "47564  Colombia  2014    2  February  Non-renewables  1661.258      20435.682   \n",
              "48554  Colombia  2014    3     March      Renewables  4313.454      48591.614   \n",
              "\n",
              "       Historico    aporte  \n",
              "46572        NaN  0.703246  \n",
              "46573        NaN  0.296754  \n",
              "47563        NaN  0.690345  \n",
              "47564        NaN  0.309655  \n",
              "48554        NaN  0.739553  "
            ],
            "text/html": [
              "\n",
              "\n",
              "  <div id=\"df-5c0187b0-8774-4026-a7d0-150a34f3b4fa\">\n",
              "    <div class=\"colab-df-container\">\n",
              "      <div>\n",
              "<style scoped>\n",
              "    .dataframe tbody tr th:only-of-type {\n",
              "        vertical-align: middle;\n",
              "    }\n",
              "\n",
              "    .dataframe tbody tr th {\n",
              "        vertical-align: top;\n",
              "    }\n",
              "\n",
              "    .dataframe thead th {\n",
              "        text-align: right;\n",
              "    }\n",
              "</style>\n",
              "<table border=\"1\" class=\"dataframe\">\n",
              "  <thead>\n",
              "    <tr style=\"text-align: right;\">\n",
              "      <th></th>\n",
              "      <th>pais</th>\n",
              "      <th>ano</th>\n",
              "      <th>Mes</th>\n",
              "      <th>mes</th>\n",
              "      <th>energia</th>\n",
              "      <th>cantidad</th>\n",
              "      <th>CantidadAnual</th>\n",
              "      <th>Historico</th>\n",
              "      <th>aporte</th>\n",
              "    </tr>\n",
              "  </thead>\n",
              "  <tbody>\n",
              "    <tr>\n",
              "      <th>46572</th>\n",
              "      <td>Colombia</td>\n",
              "      <td>2014</td>\n",
              "      <td>1</td>\n",
              "      <td>January</td>\n",
              "      <td>Renewables</td>\n",
              "      <td>4010.411</td>\n",
              "      <td>48591.614</td>\n",
              "      <td>NaN</td>\n",
              "      <td>0.703246</td>\n",
              "    </tr>\n",
              "    <tr>\n",
              "      <th>46573</th>\n",
              "      <td>Colombia</td>\n",
              "      <td>2014</td>\n",
              "      <td>1</td>\n",
              "      <td>January</td>\n",
              "      <td>Non-renewables</td>\n",
              "      <td>1692.303</td>\n",
              "      <td>20435.682</td>\n",
              "      <td>NaN</td>\n",
              "      <td>0.296754</td>\n",
              "    </tr>\n",
              "    <tr>\n",
              "      <th>47563</th>\n",
              "      <td>Colombia</td>\n",
              "      <td>2014</td>\n",
              "      <td>2</td>\n",
              "      <td>February</td>\n",
              "      <td>Renewables</td>\n",
              "      <td>3703.603</td>\n",
              "      <td>48591.614</td>\n",
              "      <td>NaN</td>\n",
              "      <td>0.690345</td>\n",
              "    </tr>\n",
              "    <tr>\n",
              "      <th>47564</th>\n",
              "      <td>Colombia</td>\n",
              "      <td>2014</td>\n",
              "      <td>2</td>\n",
              "      <td>February</td>\n",
              "      <td>Non-renewables</td>\n",
              "      <td>1661.258</td>\n",
              "      <td>20435.682</td>\n",
              "      <td>NaN</td>\n",
              "      <td>0.309655</td>\n",
              "    </tr>\n",
              "    <tr>\n",
              "      <th>48554</th>\n",
              "      <td>Colombia</td>\n",
              "      <td>2014</td>\n",
              "      <td>3</td>\n",
              "      <td>March</td>\n",
              "      <td>Renewables</td>\n",
              "      <td>4313.454</td>\n",
              "      <td>48591.614</td>\n",
              "      <td>NaN</td>\n",
              "      <td>0.739553</td>\n",
              "    </tr>\n",
              "  </tbody>\n",
              "</table>\n",
              "</div>\n",
              "      <button class=\"colab-df-convert\" onclick=\"convertToInteractive('df-5c0187b0-8774-4026-a7d0-150a34f3b4fa')\"\n",
              "              title=\"Convert this dataframe to an interactive table.\"\n",
              "              style=\"display:none;\">\n",
              "\n",
              "  <svg xmlns=\"http://www.w3.org/2000/svg\" height=\"24px\"viewBox=\"0 0 24 24\"\n",
              "       width=\"24px\">\n",
              "    <path d=\"M0 0h24v24H0V0z\" fill=\"none\"/>\n",
              "    <path d=\"M18.56 5.44l.94 2.06.94-2.06 2.06-.94-2.06-.94-.94-2.06-.94 2.06-2.06.94zm-11 1L8.5 8.5l.94-2.06 2.06-.94-2.06-.94L8.5 2.5l-.94 2.06-2.06.94zm10 10l.94 2.06.94-2.06 2.06-.94-2.06-.94-.94-2.06-.94 2.06-2.06.94z\"/><path d=\"M17.41 7.96l-1.37-1.37c-.4-.4-.92-.59-1.43-.59-.52 0-1.04.2-1.43.59L10.3 9.45l-7.72 7.72c-.78.78-.78 2.05 0 2.83L4 21.41c.39.39.9.59 1.41.59.51 0 1.02-.2 1.41-.59l7.78-7.78 2.81-2.81c.8-.78.8-2.07 0-2.86zM5.41 20L4 18.59l7.72-7.72 1.47 1.35L5.41 20z\"/>\n",
              "  </svg>\n",
              "      </button>\n",
              "\n",
              "\n",
              "\n",
              "    <div id=\"df-9fc7920c-441b-477c-b8f3-0f681f838e2b\">\n",
              "      <button class=\"colab-df-quickchart\" onclick=\"quickchart('df-9fc7920c-441b-477c-b8f3-0f681f838e2b')\"\n",
              "              title=\"Suggest charts.\"\n",
              "              style=\"display:none;\">\n",
              "\n",
              "<svg xmlns=\"http://www.w3.org/2000/svg\" height=\"24px\"viewBox=\"0 0 24 24\"\n",
              "     width=\"24px\">\n",
              "    <g>\n",
              "        <path d=\"M19 3H5c-1.1 0-2 .9-2 2v14c0 1.1.9 2 2 2h14c1.1 0 2-.9 2-2V5c0-1.1-.9-2-2-2zM9 17H7v-7h2v7zm4 0h-2V7h2v10zm4 0h-2v-4h2v4z\"/>\n",
              "    </g>\n",
              "</svg>\n",
              "      </button>\n",
              "    </div>\n",
              "\n",
              "<style>\n",
              "  .colab-df-quickchart {\n",
              "    background-color: #E8F0FE;\n",
              "    border: none;\n",
              "    border-radius: 50%;\n",
              "    cursor: pointer;\n",
              "    display: none;\n",
              "    fill: #1967D2;\n",
              "    height: 32px;\n",
              "    padding: 0 0 0 0;\n",
              "    width: 32px;\n",
              "  }\n",
              "\n",
              "  .colab-df-quickchart:hover {\n",
              "    background-color: #E2EBFA;\n",
              "    box-shadow: 0px 1px 2px rgba(60, 64, 67, 0.3), 0px 1px 3px 1px rgba(60, 64, 67, 0.15);\n",
              "    fill: #174EA6;\n",
              "  }\n",
              "\n",
              "  [theme=dark] .colab-df-quickchart {\n",
              "    background-color: #3B4455;\n",
              "    fill: #D2E3FC;\n",
              "  }\n",
              "\n",
              "  [theme=dark] .colab-df-quickchart:hover {\n",
              "    background-color: #434B5C;\n",
              "    box-shadow: 0px 1px 3px 1px rgba(0, 0, 0, 0.15);\n",
              "    filter: drop-shadow(0px 1px 2px rgba(0, 0, 0, 0.3));\n",
              "    fill: #FFFFFF;\n",
              "  }\n",
              "</style>\n",
              "\n",
              "    <script>\n",
              "      async function quickchart(key) {\n",
              "        const containerElement = document.querySelector('#' + key);\n",
              "        const charts = await google.colab.kernel.invokeFunction(\n",
              "            'suggestCharts', [key], {});\n",
              "      }\n",
              "    </script>\n",
              "\n",
              "      <script>\n",
              "\n",
              "function displayQuickchartButton(domScope) {\n",
              "  let quickchartButtonEl =\n",
              "    domScope.querySelector('#df-9fc7920c-441b-477c-b8f3-0f681f838e2b button.colab-df-quickchart');\n",
              "  quickchartButtonEl.style.display =\n",
              "    google.colab.kernel.accessAllowed ? 'block' : 'none';\n",
              "}\n",
              "\n",
              "        displayQuickchartButton(document);\n",
              "      </script>\n",
              "      <style>\n",
              "    .colab-df-container {\n",
              "      display:flex;\n",
              "      flex-wrap:wrap;\n",
              "      gap: 12px;\n",
              "    }\n",
              "\n",
              "    .colab-df-convert {\n",
              "      background-color: #E8F0FE;\n",
              "      border: none;\n",
              "      border-radius: 50%;\n",
              "      cursor: pointer;\n",
              "      display: none;\n",
              "      fill: #1967D2;\n",
              "      height: 32px;\n",
              "      padding: 0 0 0 0;\n",
              "      width: 32px;\n",
              "    }\n",
              "\n",
              "    .colab-df-convert:hover {\n",
              "      background-color: #E2EBFA;\n",
              "      box-shadow: 0px 1px 2px rgba(60, 64, 67, 0.3), 0px 1px 3px 1px rgba(60, 64, 67, 0.15);\n",
              "      fill: #174EA6;\n",
              "    }\n",
              "\n",
              "    [theme=dark] .colab-df-convert {\n",
              "      background-color: #3B4455;\n",
              "      fill: #D2E3FC;\n",
              "    }\n",
              "\n",
              "    [theme=dark] .colab-df-convert:hover {\n",
              "      background-color: #434B5C;\n",
              "      box-shadow: 0px 1px 3px 1px rgba(0, 0, 0, 0.15);\n",
              "      filter: drop-shadow(0px 1px 2px rgba(0, 0, 0, 0.3));\n",
              "      fill: #FFFFFF;\n",
              "    }\n",
              "  </style>\n",
              "\n",
              "      <script>\n",
              "        const buttonEl =\n",
              "          document.querySelector('#df-5c0187b0-8774-4026-a7d0-150a34f3b4fa button.colab-df-convert');\n",
              "        buttonEl.style.display =\n",
              "          google.colab.kernel.accessAllowed ? 'block' : 'none';\n",
              "\n",
              "        async function convertToInteractive(key) {\n",
              "          const element = document.querySelector('#df-5c0187b0-8774-4026-a7d0-150a34f3b4fa');\n",
              "          const dataTable =\n",
              "            await google.colab.kernel.invokeFunction('convertToInteractive',\n",
              "                                                     [key], {});\n",
              "          if (!dataTable) return;\n",
              "\n",
              "          const docLinkHtml = 'Like what you see? Visit the ' +\n",
              "            '<a target=\"_blank\" href=https://colab.research.google.com/notebooks/data_table.ipynb>data table notebook</a>'\n",
              "            + ' to learn more about interactive tables.';\n",
              "          element.innerHTML = '';\n",
              "          dataTable['output_type'] = 'display_data';\n",
              "          await google.colab.output.renderOutput(dataTable, element);\n",
              "          const docLink = document.createElement('div');\n",
              "          docLink.innerHTML = docLinkHtml;\n",
              "          element.appendChild(docLink);\n",
              "        }\n",
              "      </script>\n",
              "    </div>\n",
              "  </div>\n"
            ]
          },
          "metadata": {},
          "execution_count": 129
        }
      ]
    },
    {
      "cell_type": "code",
      "source": [
        "total = df_nr.groupby('energia').sum()['cantidad'].sort_values(ascending=False)"
      ],
      "metadata": {
        "colab": {
          "base_uri": "https://localhost:8080/"
        },
        "id": "ktzIpqIptacG",
        "outputId": "b0d76e8c-7d4f-4aac-8594-a70be41aecf4"
      },
      "execution_count": 130,
      "outputs": [
        {
          "output_type": "stream",
          "name": "stderr",
          "text": [
            "<ipython-input-130-abcedf6d6b2e>:1: FutureWarning: The default value of numeric_only in DataFrameGroupBy.sum is deprecated. In a future version, numeric_only will default to False. Either specify numeric_only or select only columns which should be valid for the function.\n",
            "  total = df_nr.groupby('energia').sum()['cantidad'].sort_values(ascending=False)\n"
          ]
        }
      ]
    },
    {
      "cell_type": "markdown",
      "source": [
        "Obteniendo así en un diagrama de torta:"
      ],
      "metadata": {
        "id": "meJce_e9tif2"
      }
    },
    {
      "cell_type": "code",
      "source": [
        "fig, ax = plt.subplots(figsize=(5, 5))\n",
        "fig.suptitle('Proporción de producción de energía en Colombia\\nRenovables vs No renovables')\n",
        "\n",
        "ax.pie(x=total, labels=total.index, autopct='%.1f%%', startangle=90, colors=sns.color_palette(\"icefire\"))\n",
        "\n",
        "plt.tight_layout()"
      ],
      "metadata": {
        "colab": {
          "base_uri": "https://localhost:8080/",
          "height": 504
        },
        "id": "LgLWwUketl79",
        "outputId": "4fb68820-873b-4989-b8f6-53ef65e082d8"
      },
      "execution_count": 148,
      "outputs": [
        {
          "output_type": "display_data",
          "data": {
            "text/plain": [
              "<Figure size 500x500 with 1 Axes>"
            ],
            "image/png": "[encoded data removed]"
          },
          "metadata": {}
        }
      ]
    }
  ]
}